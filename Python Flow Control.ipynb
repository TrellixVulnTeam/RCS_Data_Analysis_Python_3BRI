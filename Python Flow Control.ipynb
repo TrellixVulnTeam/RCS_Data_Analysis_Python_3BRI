{
 "cells": [
  {
   "cell_type": "markdown",
   "metadata": {},
   "source": [
    "## If Statement"
   ]
  },
  {
   "cell_type": "code",
   "execution_count": 7,
   "metadata": {},
   "outputs": [
    {
     "name": "stdout",
     "output_type": "stream",
     "text": [
      "hello\n",
      "hello\n",
      "hello thats not magic\n"
     ]
    }
   ],
   "source": [
    "if 5 >= 5:\n",
    "    print(\"hello\")\n",
    "if 5 <= 5:\n",
    "    print(\"hello\")\n",
    "if 5 == 6:\n",
    "    print(\"hello thats magic\")\n",
    "if 5 != 6:\n",
    "    print(\"hello thats not magic\")"
   ]
  },
  {
   "cell_type": "code",
   "execution_count": 1,
   "metadata": {},
   "outputs": [
    {
     "name": "stdout",
     "output_type": "stream",
     "text": [
      "Enter an integer please! 33\n",
      "You dream too little!\n"
     ]
    }
   ],
   "source": [
    "x = int(input(\"Enter an integer please! \"))\n",
    "if x > 42:\n",
    "    print(\"Too ambitious an answer!\")\n",
    "elif x < 42:\n",
    "    print(\"You dream too little!\")\n",
    "else:\n",
    "    print(\"That is the answer to everything!\")\n"
   ]
  },
  {
   "cell_type": "markdown",
   "metadata": {},
   "source": [
    "## Loops\n",
    "* While\n",
    "* For\n",
    "* Do While (emulate)"
   ]
  },
  {
   "cell_type": "code",
   "execution_count": null,
   "metadata": {},
   "outputs": [],
   "source": []
  },
  {
   "cell_type": "code",
   "execution_count": 12,
   "metadata": {},
   "outputs": [
    {
     "name": "stdout",
     "output_type": "stream",
     "text": [
      "1 10\n",
      "1 11\n",
      "2 12\n",
      "3 13\n",
      "5 14\n",
      "8 15\n",
      "13 16\n",
      "21 17\n",
      "34 18\n",
      "55 19\n",
      "89 20\n",
      "144 21\n",
      "233 22\n",
      "377 23\n",
      "610 24\n",
      "987 25\n",
      "1597 26\n",
      "2584 27\n",
      "4181 28\n",
      "6765 29\n",
      "10946 30\n",
      "17711 31\n",
      "28657 32\n",
      "46368 33\n",
      "75025 34\n",
      "121393 35\n",
      "196418 36\n",
      "317811 37\n",
      "514229 38\n",
      "832040 39\n",
      "1346269 40\n",
      "2178309 41\n",
      "3524578 42\n",
      "5702887 43\n",
      "9227465 44\n",
      "14930352 45\n",
      "24157817 46\n",
      "39088169 47\n",
      "63245986 48\n",
      "102334155 49\n",
      "165580141 50\n",
      "267914296 51\n",
      "433494437 52\n",
      "701408733 53\n",
      "1134903170 54\n",
      "1836311903 55\n",
      "2971215073 56\n",
      "4807526976 57\n",
      "7778742049 58\n",
      "12586269025 59\n",
      "20365011074 60\n",
      "32951280099 61\n",
      "53316291173 62\n",
      "86267571272 63\n",
      "139583862445 64\n",
      "225851433717 65\n",
      "365435296162 66\n",
      "591286729879 67\n",
      "956722026041 68\n",
      "1548008755920 69\n",
      "2504730781961 70\n",
      "4052739537881 71\n",
      "6557470319842 72\n",
      "10610209857723 73\n",
      "17167680177565 74\n",
      "27777890035288 75\n",
      "44945570212853 76\n",
      "72723460248141 77\n",
      "117669030460994 78\n",
      "190392490709135 79\n",
      "308061521170129 80\n",
      "498454011879264 81\n",
      "806515533049393 82\n",
      "1304969544928657 83\n",
      "2111485077978050 84\n",
      "3416454622906707 85\n",
      "5527939700884757 86\n",
      "8944394323791464 87\n",
      "14472334024676221 88\n",
      "23416728348467685 89\n",
      "37889062373143906 90\n",
      "61305790721611591 91\n",
      "99194853094755497 92\n",
      "160500643816367088 93\n",
      "259695496911122585 94\n",
      "420196140727489673 95\n",
      "679891637638612258 96\n",
      "1100087778366101931 97\n",
      "1779979416004714189 98\n",
      "2880067194370816120 99\n",
      "100\n"
     ]
    }
   ],
   "source": [
    "# Good old Fibonacci\n",
    "#a, b, c = 0, 1, 10\n",
    "a = 0\n",
    "b = 1\n",
    "c = 10\n",
    "while c < 100:\n",
    "    print(b, c)\n",
    "    a, b, c = b, a+b, c+1 # multiple assignment yay! right side from left to right eval first then assigned to left!\n",
    "print(c)"
   ]
  },
  {
   "cell_type": "code",
   "execution_count": 17,
   "metadata": {},
   "outputs": [
    {
     "name": "stdout",
     "output_type": "stream",
     "text": [
      "1\n",
      "36\n",
      "9\n",
      "5929\n",
      "620944\n",
      "788\n"
     ]
    }
   ],
   "source": [
    "for x in [1,6,3,77,788]:\n",
    "    print(x*x)\n",
    "print(x)"
   ]
  },
  {
   "cell_type": "code",
   "execution_count": 21,
   "metadata": {},
   "outputs": [
    {
     "name": "stdout",
     "output_type": "stream",
     "text": [
      "0 1\n",
      "1 2\n",
      "2 6\n",
      "3 55\n",
      "{0: 1, 1: 2, 2: 6, 3: 55}\n"
     ]
    }
   ],
   "source": [
    "d={}\n",
    "for x, y in enumerate([1,2,6,55]):\n",
    "    print(x, y)\n",
    "    d[x]=y\n",
    "print(d)\n"
   ]
  },
  {
   "cell_type": "code",
   "execution_count": 24,
   "metadata": {},
   "outputs": [
    {
     "data": {
      "text/plain": [
       "[2]"
      ]
     },
     "execution_count": 24,
     "metadata": {},
     "output_type": "execute_result"
    }
   ],
   "source": [
    "b=list(range(2,3))\n",
    "b"
   ]
  },
  {
   "cell_type": "code",
   "execution_count": 26,
   "metadata": {},
   "outputs": [
    {
     "name": "stdout",
     "output_type": "stream",
     "text": [
      "1 20\n",
      "1 21\n",
      "1 22\n",
      "1 23\n",
      "2 20\n",
      "2 21\n",
      "2 22\n",
      "2 23\n",
      "3 20\n",
      "3 21\n",
      "3 22\n",
      "3 23\n",
      "4 20\n",
      "4 21\n",
      "4 22\n",
      "4 23\n"
     ]
    }
   ],
   "source": [
    "for a in range(1,5):\n",
    "    for b in range(20,24):\n",
    "        print(a,b)"
   ]
  },
  {
   "cell_type": "code",
   "execution_count": 29,
   "metadata": {},
   "outputs": [
    {
     "name": "stdout",
     "output_type": "stream",
     "text": [
      "1 1\n",
      "1 2\n",
      "1 3\n",
      "1 4\n",
      "1 5\n",
      "2 2\n",
      "2 3\n",
      "2 4\n",
      "2 5\n",
      "3 3\n",
      "3 4\n",
      "3 5\n",
      "4 4\n",
      "4 5\n",
      "5 5\n"
     ]
    }
   ],
   "source": [
    "for a in range(1,9):\n",
    "    for b in range(a,6):\n",
    "        print(a,b)"
   ]
  },
  {
   "cell_type": "code",
   "execution_count": 30,
   "metadata": {},
   "outputs": [
    {
     "name": "stdout",
     "output_type": "stream",
     "text": [
      "0 1 11 21\n",
      "1 1 11 22\n",
      "2 1 11 23\n",
      "3 1 12 21\n",
      "4 1 12 22\n",
      "5 1 12 23\n",
      "6 1 13 21\n",
      "7 1 13 22\n",
      "8 1 13 23\n",
      "9 2 11 21\n",
      "10 2 11 22\n",
      "11 2 11 23\n",
      "12 2 12 21\n",
      "13 2 12 22\n",
      "14 2 12 23\n",
      "15 2 13 21\n",
      "16 2 13 22\n",
      "17 2 13 23\n",
      "18 3 11 21\n",
      "19 3 11 22\n",
      "20 3 11 23\n",
      "21 3 12 21\n",
      "22 3 12 22\n",
      "23 3 12 23\n",
      "24 3 13 21\n",
      "25 3 13 22\n",
      "26 3 13 23\n"
     ]
    }
   ],
   "source": [
    "n=0\n",
    "for a in range(1,4):\n",
    "    for b in range(11,14):\n",
    "        for c in range(21,24):\n",
    "            print(n, a, b, c)\n",
    "            n+=1"
   ]
  },
  {
   "cell_type": "code",
   "execution_count": 25,
   "metadata": {},
   "outputs": [
    {
     "name": "stdout",
     "output_type": "stream",
     "text": [
      "2 is a prime number\n",
      "3 is a prime number\n",
      "4 equals 2 * 2\n",
      "5 is a prime number\n",
      "6 equals 2 * 3\n",
      "7 is a prime number\n",
      "8 equals 2 * 4\n",
      "9 equals 3 * 3\n"
     ]
    }
   ],
   "source": [
    "#The break statement, like in C, breaks out of the innermost enclosing for or while loop.\n",
    "\n",
    "#Loop statements may have an else clause; it is executed when the loop terminates through exhaustion of the list (with for) or when the condition becomes false (with while), but not when the loop is terminated by a break statement. This is exemplified by the following loop, which searches for prime numbers:\n",
    "\n",
    "for n in range(2, 10):\n",
    "    for x in range(2, n):\n",
    "        if n % x == 0:\n",
    "            print(n, 'equals', x, '*', n//x)\n",
    "            break\n",
    "    else: #badly named Else IMHO! should be exhausted not ELSE!!! VS\n",
    "        # loop fell through without finding a factor\n",
    "        print(n, 'is a prime number')"
   ]
  },
  {
   "cell_type": "code",
   "execution_count": null,
   "metadata": {},
   "outputs": [],
   "source": [
    "# The pass statement does nothing. It can be used when a statement is required syntactically but the program requires no action. For example:\n",
    "# Do not run this !!!\n",
    "while True:\n",
    "    pass  # Busy-wait for keyboard interrupt (Ctrl+C)"
   ]
  },
  {
   "cell_type": "code",
   "execution_count": 32,
   "metadata": {},
   "outputs": [
    {
     "name": "stdout",
     "output_type": "stream",
     "text": [
      "1\n",
      "2\n",
      "3\n",
      "4\n",
      "5\n"
     ]
    }
   ],
   "source": [
    "#emulated do while loop\n",
    "a=0\n",
    "while True:\n",
    "    # statement(s)\n",
    "    a+=1\n",
    "    print(a)\n",
    "    if not a < 5:\n",
    "        break"
   ]
  },
  {
   "cell_type": "markdown",
   "metadata": {},
   "source": [
    "## Iterating over lists"
   ]
  },
  {
   "cell_type": "code",
   "execution_count": 33,
   "metadata": {},
   "outputs": [
    {
     "name": "stdout",
     "output_type": "stream",
     "text": [
      "0123456789"
     ]
    }
   ],
   "source": [
    "for i in range(10):\n",
    "    print(i, end='')  #Python 3.x specific "
   ]
  },
  {
   "cell_type": "code",
   "execution_count": 34,
   "metadata": {},
   "outputs": [
    {
     "name": "stdout",
     "output_type": "stream",
     "text": [
      "0 1 2 3 4 5 6 7 8 9 "
     ]
    }
   ],
   "source": [
    "for i in range(10):\n",
    "    print(f'{i} ',end='')  #Python 3.6+ specific "
   ]
  },
  {
   "cell_type": "code",
   "execution_count": 35,
   "metadata": {},
   "outputs": [
    {
     "name": "stdout",
     "output_type": "stream",
     "text": [
      "Alice 5\n",
      "Bob 3\n",
      "Carol 5\n",
      "David 5\n"
     ]
    }
   ],
   "source": [
    "names=['Alice','Bob','Carol','David']\n",
    "for n in names:\n",
    "    print(n, len(n))"
   ]
  },
  {
   "cell_type": "code",
   "execution_count": 37,
   "metadata": {},
   "outputs": [
    {
     "name": "stdout",
     "output_type": "stream",
     "text": [
      "0 Alice\n",
      "1 Bob\n",
      "2 Carol\n",
      "3 David\n"
     ]
    }
   ],
   "source": [
    "# An older Pythonic method of iterating over indices of a sequence\n",
    "for i in range(len(names)):\n",
    "    print(i, names[i])\n"
   ]
  },
  {
   "cell_type": "code",
   "execution_count": 38,
   "metadata": {},
   "outputs": [
    {
     "name": "stdout",
     "output_type": "stream",
     "text": [
      "0 Alice\n",
      "1 Bob\n",
      "2 Carol\n",
      "3 David\n"
     ]
    }
   ],
   "source": [
    "for i, name in enumerate(names):\n",
    "    print(i, name)"
   ]
  },
  {
   "cell_type": "code",
   "execution_count": 39,
   "metadata": {},
   "outputs": [
    {
     "data": {
      "text/plain": [
       "[0, 1, 4, 9, 16, 25, 36, 49, 64, 81]"
      ]
     },
     "execution_count": 39,
     "metadata": {},
     "output_type": "execute_result"
    }
   ],
   "source": [
    "# For example, assume we want to create a list of squares, like:\n",
    "\n",
    "squares = []\n",
    "for x in range(10):\n",
    "    squares.append(x**2)\n",
    "squares\n",
    "[0, 1, 4, 9, 16, 25, 36, 49, 64, 81]\n"
   ]
  },
  {
   "cell_type": "code",
   "execution_count": 40,
   "metadata": {},
   "outputs": [
    {
     "data": {
      "text/plain": [
       "[0, 1, 4, 9, 16, 25, 36, 49, 64, 81]"
      ]
     },
     "execution_count": 40,
     "metadata": {},
     "output_type": "execute_result"
    }
   ],
   "source": [
    "# Note that this creates (or overwrites) a variable named x that still exists after the loop completes. We can calculate the list of squares without any side effects using:\n",
    "\n",
    "# squares = list(map(lambda x: x**2, range(10)))\n",
    "\n",
    "squares = [x**2 for x in range(10)]\n",
    "squares"
   ]
  },
  {
   "cell_type": "code",
   "execution_count": 43,
   "metadata": {},
   "outputs": [
    {
     "data": {
      "text/plain": [
       "[1, 9, 25, 49, 81]"
      ]
     },
     "execution_count": 43,
     "metadata": {},
     "output_type": "execute_result"
    }
   ],
   "source": [
    "squares = [x**2 for x in range(10) if x % 2 == 1]\n",
    "squares"
   ]
  },
  {
   "cell_type": "code",
   "execution_count": null,
   "metadata": {},
   "outputs": [],
   "source": []
  },
  {
   "cell_type": "code",
   "execution_count": 41,
   "metadata": {},
   "outputs": [
    {
     "name": "stdout",
     "output_type": "stream",
     "text": [
      "{1: 1, 2: 4, 3: 9, 4: 16, 5: 25, 6: 36, 7: 49, 8: 64, 9: 81, 10: 100, 11: 121, 12: 144, 13: 169, 14: 196, 15: 225, 16: 256, 17: 289, 18: 324, 19: 361}\n"
     ]
    }
   ],
   "source": [
    "# In addition, dict comprehensions can be used to create dictionaries from arbitrary key and value expressions:\n",
    "\n",
    "\n",
    "sqrs={x: x**2 for x in range(1,20)}\n",
    "print(sqrs)\n"
   ]
  },
  {
   "cell_type": "code",
   "execution_count": null,
   "metadata": {},
   "outputs": [],
   "source": [
    "sqrs[5]\n"
   ]
  },
  {
   "cell_type": "code",
   "execution_count": null,
   "metadata": {},
   "outputs": [],
   "source": [
    "#When looping through dictionaries, the key and corresponding value can be retrieved at the same time using the items() method.\n",
    "\n",
    "knights = {'gallahad': 'the pure', 'robin': 'the brave'}\n",
    "for k, v in knights.items():\n",
    "    print(k, v)"
   ]
  },
  {
   "cell_type": "markdown",
   "metadata": {},
   "source": [
    "## Avoid changing the sequence that you loop(iterate) over!"
   ]
  },
  {
   "cell_type": "code",
   "execution_count": null,
   "metadata": {},
   "outputs": [],
   "source": [
    "\n",
    "for n in names[:]: #Looping over shallow copy of a list useful if we are going to modify the original list!\n",
    "    if n[0]=='B':\n",
    "        names.append(n)\n",
    "print(names)\n",
    "    "
   ]
  },
  {
   "cell_type": "code",
   "execution_count": null,
   "metadata": {},
   "outputs": [],
   "source": [
    "## Enumerate method\n",
    "#When looping through a sequence, the position index and corresponding value can be retrieved at the same time using the enumerate() function.\n",
    "\n",
    "\n",
    "for i, v in enumerate(['tic', 'tac', 'toe']):\n",
    "    print(i, v)\n"
   ]
  },
  {
   "cell_type": "markdown",
   "metadata": {},
   "source": [
    "### To loop over two or more sequences at the same time, the entries can be paired with the zip() function."
   ]
  },
  {
   "cell_type": "code",
   "execution_count": null,
   "metadata": {},
   "outputs": [],
   "source": [
    "questions = ['name', 'quest', 'favorite color']\n",
    "answers = ['lancelot', 'the holy grail', 'blue']\n",
    "for q, a in zip(questions, answers):\n",
    "    print(f'What is your {q}?  It is {a}.')"
   ]
  },
  {
   "cell_type": "code",
   "execution_count": null,
   "metadata": {},
   "outputs": [],
   "source": [
    "# To loop over a sequence in reverse, first specify the sequence in a forward direction and then call the reversed() function.\n",
    "\n",
    "\n",
    "for i in reversed(range(1, 10, 2)):\n",
    "    print(i)"
   ]
  },
  {
   "cell_type": "code",
   "execution_count": null,
   "metadata": {},
   "outputs": [],
   "source": [
    "# To loop over a sequence in sorted order, use the sorted() function which returns a new sorted list while leaving the source unaltered.\n",
    "\n",
    "\n",
    "basket = ['apple', 'orange', 'apple', 'pear', 'orange', 'banana']\n",
    "for f in sorted(set(basket)):\n",
    "    print(f)"
   ]
  },
  {
   "cell_type": "markdown",
   "metadata": {},
   "source": [
    "## Homework\n",
    "### Write a program that goes over(iterates) numbers from 1 to 100(included)\n",
    "* For each number it prints Fizz if number divides by 5 even\n",
    "* For each number it prints Buzz if number divides by 7 evenly\n",
    "* If number divides by 5 AND 7 print FizzBuzz\n",
    "* print number if it does not divide by 5 nor 7\n",
    "* 1,2,3,4,Fizz,6,Buzz,8,9,Fizz,11,.......34,FizzBuzz,36"
   ]
  }
 ],
 "metadata": {
  "kernelspec": {
   "display_name": "Python 3",
   "language": "python",
   "name": "python3"
  },
  "language_info": {
   "codemirror_mode": {
    "name": "ipython",
    "version": 3
   },
   "file_extension": ".py",
   "mimetype": "text/x-python",
   "name": "python",
   "nbconvert_exporter": "python",
   "pygments_lexer": "ipython3",
   "version": "3.6.4"
  }
 },
 "nbformat": 4,
 "nbformat_minor": 2
}
