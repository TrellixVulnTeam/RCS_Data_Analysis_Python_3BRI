{
 "cells": [
  {
   "cell_type": "code",
   "execution_count": 2,
   "metadata": {},
   "outputs": [],
   "source": [
    "import requests\n",
    "import pandas as pd\n",
    "from bs4 import BeautifulSoup"
   ]
  },
  {
   "cell_type": "code",
   "execution_count": 3,
   "metadata": {},
   "outputs": [],
   "source": [
    "url = \"https://www.ss.com/lv/real-estate/wood/\""
   ]
  },
  {
   "cell_type": "code",
   "execution_count": 4,
   "metadata": {},
   "outputs": [
    {
     "data": {
      "text/plain": [
       "200"
      ]
     },
     "execution_count": 4,
     "metadata": {},
     "output_type": "execute_result"
    }
   ],
   "source": [
    "req = requests.get(url)\n",
    "req.status_code"
   ]
  },
  {
   "cell_type": "code",
   "execution_count": 6,
   "metadata": {},
   "outputs": [
    {
     "data": {
      "text/plain": [
       "<title>SS.COM Nekustamais īpašums - Mežs - Sludinājumi</title>"
      ]
     },
     "execution_count": 6,
     "metadata": {},
     "output_type": "execute_result"
    }
   ],
   "source": [
    "soup = BeautifulSoup(req.text, 'lxml')\n",
    "soup.title"
   ]
  },
  {
   "cell_type": "code",
   "execution_count": 8,
   "metadata": {},
   "outputs": [
    {
     "data": {
      "text/plain": [
       "27"
      ]
     },
     "execution_count": 8,
     "metadata": {},
     "output_type": "execute_result"
    }
   ],
   "source": [
    "anchorlist = soup.find_all('a', {'class': 'a_category'})\n",
    "len(anchorlist)"
   ]
  },
  {
   "cell_type": "code",
   "execution_count": 9,
   "metadata": {},
   "outputs": [
    {
     "data": {
      "text/plain": [
       "27"
      ]
     },
     "execution_count": 9,
     "metadata": {},
     "output_type": "execute_result"
    }
   ],
   "source": [
    "urlist = [el['href'] for el in anchorlist]\n",
    "len(urlist)"
   ]
  },
  {
   "cell_type": "code",
   "execution_count": 10,
   "metadata": {},
   "outputs": [
    {
     "data": {
      "text/plain": [
       "'/lv/real-estate/wood/riga-region/'"
      ]
     },
     "execution_count": 10,
     "metadata": {},
     "output_type": "execute_result"
    }
   ],
   "source": [
    "urlist[0]"
   ]
  },
  {
   "cell_type": "code",
   "execution_count": 11,
   "metadata": {},
   "outputs": [],
   "source": [
    "baseurl = \"https://www.ss.com\""
   ]
  },
  {
   "cell_type": "code",
   "execution_count": 12,
   "metadata": {},
   "outputs": [
    {
     "data": {
      "text/plain": [
       "['https://www.ss.com/lv/real-estate/wood/riga-region/',\n",
       " 'https://www.ss.com/lv/real-estate/wood/aizkraukle-and-reg/']"
      ]
     },
     "execution_count": 12,
     "metadata": {},
     "output_type": "execute_result"
    }
   ],
   "source": [
    "furlist = [baseurl + el for el in urlist]\n",
    "furlist[:2]"
   ]
  },
  {
   "cell_type": "code",
   "execution_count": 17,
   "metadata": {},
   "outputs": [],
   "source": [
    "postfix = 'sell/'"
   ]
  },
  {
   "cell_type": "code",
   "execution_count": 18,
   "metadata": {},
   "outputs": [
    {
     "data": {
      "text/plain": [
       "['https://www.ss.com/lv/real-estate/wood/riga-region/sell/',\n",
       " 'https://www.ss.com/lv/real-estate/wood/aizkraukle-and-reg/sell/']"
      ]
     },
     "execution_count": 18,
     "metadata": {},
     "output_type": "execute_result"
    }
   ],
   "source": [
    "sellist = [el+postfix for el in furlist]\n",
    "sellist[:2]"
   ]
  },
  {
   "cell_type": "code",
   "execution_count": 19,
   "metadata": {},
   "outputs": [
    {
     "data": {
      "text/plain": [
       "11"
      ]
     },
     "execution_count": 19,
     "metadata": {},
     "output_type": "execute_result"
    }
   ],
   "source": [
    "dftables = pd.read_html(sellist[0])\n",
    "len(dftables)"
   ]
  },
  {
   "cell_type": "code",
   "execution_count": 20,
   "metadata": {},
   "outputs": [
    {
     "data": {
      "text/html": [
       "<div>\n",
       "<style scoped>\n",
       "    .dataframe tbody tr th:only-of-type {\n",
       "        vertical-align: middle;\n",
       "    }\n",
       "\n",
       "    .dataframe tbody tr th {\n",
       "        vertical-align: top;\n",
       "    }\n",
       "\n",
       "    .dataframe thead th {\n",
       "        text-align: right;\n",
       "    }\n",
       "</style>\n",
       "<table border=\"1\" class=\"dataframe\">\n",
       "  <thead>\n",
       "    <tr style=\"text-align: right;\">\n",
       "      <th></th>\n",
       "      <th>0</th>\n",
       "      <th>1</th>\n",
       "      <th>2</th>\n",
       "      <th>3</th>\n",
       "      <th>4</th>\n",
       "      <th>5</th>\n",
       "    </tr>\n",
       "  </thead>\n",
       "  <tbody>\n",
       "    <tr>\n",
       "      <th>0</th>\n",
       "      <td>Sludinājumi \\tdatums</td>\n",
       "      <td>Pagasts</td>\n",
       "      <td>m2</td>\n",
       "      <td>Cena</td>\n",
       "      <td>NaN</td>\n",
       "      <td>NaN</td>\n",
       "    </tr>\n",
       "    <tr>\n",
       "      <th>1</th>\n",
       "      <td>NaN</td>\n",
       "      <td>NaN</td>\n",
       "      <td>Ja vēlies dzīvot ekoloģiskā lauku vidē un tajā...</td>\n",
       "      <td>Allažu pag.Allažmuiža</td>\n",
       "      <td>32.30 ha.</td>\n",
       "      <td>150,000 €</td>\n",
       "    </tr>\n",
       "    <tr>\n",
       "      <th>2</th>\n",
       "      <td>NaN</td>\n",
       "      <td>NaN</td>\n",
       "      <td>Pardodu apaugumu, nodastots 2018 gada vasara. ...</td>\n",
       "      <td>Olaines pag.Pēternieki</td>\n",
       "      <td>1 ha.</td>\n",
       "      <td>5,000 €</td>\n",
       "    </tr>\n",
       "    <tr>\n",
       "      <th>3</th>\n",
       "      <td>NaN</td>\n",
       "      <td>NaN</td>\n",
       "      <td>Pārdod cirsmu Mālpils pagastā, Mālpils novadā....</td>\n",
       "      <td>Mālpils pag.Mālpils</td>\n",
       "      <td>9.90 ha.</td>\n",
       "      <td>100,000 €</td>\n",
       "    </tr>\n",
       "    <tr>\n",
       "      <th>4</th>\n",
       "      <td>NaN</td>\n",
       "      <td>NaN</td>\n",
       "      <td>Pārdod cirsmu Siguldas pagastā, Siguldas novad...</td>\n",
       "      <td>Siguldas pag.Peltes</td>\n",
       "      <td>2.30 ha.</td>\n",
       "      <td>30,000 €</td>\n",
       "    </tr>\n",
       "    <tr>\n",
       "      <th>5</th>\n",
       "      <td>NaN</td>\n",
       "      <td>NaN</td>\n",
       "      <td>Tirgoju cirsmas iztrādes tiesības (kokus uz ce...</td>\n",
       "      <td>Salaspils</td>\n",
       "      <td>2.30 ha.</td>\n",
       "      <td>10,100 €</td>\n",
       "    </tr>\n",
       "    <tr>\n",
       "      <th>6</th>\n",
       "      <td>NaN</td>\n",
       "      <td>NaN</td>\n",
       "      <td>Kailcirtē tiek piedāvātas cirsmas 1. un 5. nog...</td>\n",
       "      <td>Inčukalna nov.Inčukalns</td>\n",
       "      <td>0.50 ha.</td>\n",
       "      <td>8,000 €</td>\n",
       "    </tr>\n",
       "    <tr>\n",
       "      <th>7</th>\n",
       "      <td>NaN</td>\n",
       "      <td>NaN</td>\n",
       "      <td>Pārdodu īpašumu - Indras, 7.8ha platībā, no ku...</td>\n",
       "      <td>Ropažu nov.Augšciems</td>\n",
       "      <td>7.80 ha.</td>\n",
       "      <td>18,000 €</td>\n",
       "    </tr>\n",
       "    <tr>\n",
       "      <th>8</th>\n",
       "      <td>NaN</td>\n",
       "      <td>NaN</td>\n",
       "      <td>Pārdodu Mežu kopā ar zemi Baldonē. Mežš 3, 18 ...</td>\n",
       "      <td>Baldone</td>\n",
       "      <td>4.13 ha.</td>\n",
       "      <td>55,000 €</td>\n",
       "    </tr>\n",
       "    <tr>\n",
       "      <th>9</th>\n",
       "      <td>NaN</td>\n",
       "      <td>NaN</td>\n",
       "      <td>Privātai apbūvei paredzēts zemes gabals 5500 m...</td>\n",
       "      <td>Inčukalna nov.Krustiņi</td>\n",
       "      <td>5500 m²</td>\n",
       "      <td>14,000 €</td>\n",
       "    </tr>\n",
       "    <tr>\n",
       "      <th>10</th>\n",
       "      <td>NaN</td>\n",
       "      <td>NaN</td>\n",
       "      <td>Pārdodu cirsmas Ropažu novadā. Mežā pie Tumšup...</td>\n",
       "      <td>Ropažu nov.Ropaži</td>\n",
       "      <td>3 ha.</td>\n",
       "      <td>6,000 €</td>\n",
       "    </tr>\n",
       "    <tr>\n",
       "      <th>11</th>\n",
       "      <td>NaN</td>\n",
       "      <td>NaN</td>\n",
       "      <td>Pardodu cirsmas izstrades tiesibas. 200cm3, va...</td>\n",
       "      <td>Olaine</td>\n",
       "      <td>1 ha.</td>\n",
       "      <td>6,000 €</td>\n",
       "    </tr>\n",
       "    <tr>\n",
       "      <th>12</th>\n",
       "      <td>NaN</td>\n",
       "      <td>NaN</td>\n",
       "      <td>Pārdodam izstrādātus mežus, platības nav liela...</td>\n",
       "      <td>Sējas nov.</td>\n",
       "      <td>15 ha.</td>\n",
       "      <td>20,000 €</td>\n",
       "    </tr>\n",
       "    <tr>\n",
       "      <th>13</th>\n",
       "      <td>NaN</td>\n",
       "      <td>NaN</td>\n",
       "      <td>Pārdod mežu Jūrmalā, inventarizācija nav veikt...</td>\n",
       "      <td>-</td>\n",
       "      <td>4.61 ha.</td>\n",
       "      <td>8,000 €</td>\n",
       "    </tr>\n",
       "    <tr>\n",
       "      <th>14</th>\n",
       "      <td>NaN</td>\n",
       "      <td>NaN</td>\n",
       "      <td>Pārdodu cirsmas izstrādes tiesības. Cirsma ir ...</td>\n",
       "      <td>Ādažu nov.Eimuri</td>\n",
       "      <td>0.35 ha.</td>\n",
       "      <td>5,800 €</td>\n",
       "    </tr>\n",
       "    <tr>\n",
       "      <th>15</th>\n",
       "      <td>load_script_async(\"/w_inc/reklama.728.php?0||2...</td>\n",
       "      <td>NaN</td>\n",
       "      <td>NaN</td>\n",
       "      <td>NaN</td>\n",
       "      <td>NaN</td>\n",
       "      <td>NaN</td>\n",
       "    </tr>\n",
       "  </tbody>\n",
       "</table>\n",
       "</div>"
      ],
      "text/plain": [
       "                                                    0        1  \\\n",
       "0                                Sludinājumi \\tdatums  Pagasts   \n",
       "1                                                 NaN      NaN   \n",
       "2                                                 NaN      NaN   \n",
       "3                                                 NaN      NaN   \n",
       "4                                                 NaN      NaN   \n",
       "5                                                 NaN      NaN   \n",
       "6                                                 NaN      NaN   \n",
       "7                                                 NaN      NaN   \n",
       "8                                                 NaN      NaN   \n",
       "9                                                 NaN      NaN   \n",
       "10                                                NaN      NaN   \n",
       "11                                                NaN      NaN   \n",
       "12                                                NaN      NaN   \n",
       "13                                                NaN      NaN   \n",
       "14                                                NaN      NaN   \n",
       "15  load_script_async(\"/w_inc/reklama.728.php?0||2...      NaN   \n",
       "\n",
       "                                                    2  \\\n",
       "0                                                  m2   \n",
       "1   Ja vēlies dzīvot ekoloģiskā lauku vidē un tajā...   \n",
       "2   Pardodu apaugumu, nodastots 2018 gada vasara. ...   \n",
       "3   Pārdod cirsmu Mālpils pagastā, Mālpils novadā....   \n",
       "4   Pārdod cirsmu Siguldas pagastā, Siguldas novad...   \n",
       "5   Tirgoju cirsmas iztrādes tiesības (kokus uz ce...   \n",
       "6   Kailcirtē tiek piedāvātas cirsmas 1. un 5. nog...   \n",
       "7   Pārdodu īpašumu - Indras, 7.8ha platībā, no ku...   \n",
       "8   Pārdodu Mežu kopā ar zemi Baldonē. Mežš 3, 18 ...   \n",
       "9   Privātai apbūvei paredzēts zemes gabals 5500 m...   \n",
       "10  Pārdodu cirsmas Ropažu novadā. Mežā pie Tumšup...   \n",
       "11  Pardodu cirsmas izstrades tiesibas. 200cm3, va...   \n",
       "12  Pārdodam izstrādātus mežus, platības nav liela...   \n",
       "13  Pārdod mežu Jūrmalā, inventarizācija nav veikt...   \n",
       "14  Pārdodu cirsmas izstrādes tiesības. Cirsma ir ...   \n",
       "15                                                NaN   \n",
       "\n",
       "                          3          4          5  \n",
       "0                      Cena        NaN        NaN  \n",
       "1     Allažu pag.Allažmuiža  32.30 ha.  150,000 €  \n",
       "2    Olaines pag.Pēternieki      1 ha.    5,000 €  \n",
       "3       Mālpils pag.Mālpils   9.90 ha.  100,000 €  \n",
       "4       Siguldas pag.Peltes   2.30 ha.   30,000 €  \n",
       "5                 Salaspils   2.30 ha.   10,100 €  \n",
       "6   Inčukalna nov.Inčukalns   0.50 ha.    8,000 €  \n",
       "7      Ropažu nov.Augšciems   7.80 ha.   18,000 €  \n",
       "8                   Baldone   4.13 ha.   55,000 €  \n",
       "9    Inčukalna nov.Krustiņi    5500 m²   14,000 €  \n",
       "10        Ropažu nov.Ropaži      3 ha.    6,000 €  \n",
       "11                   Olaine      1 ha.    6,000 €  \n",
       "12               Sējas nov.     15 ha.   20,000 €  \n",
       "13                        -   4.61 ha.    8,000 €  \n",
       "14         Ādažu nov.Eimuri   0.35 ha.    5,800 €  \n",
       "15                      NaN        NaN        NaN  "
      ]
     },
     "execution_count": 20,
     "metadata": {},
     "output_type": "execute_result"
    }
   ],
   "source": [
    "riga = dftables[8]\n",
    "riga"
   ]
  }
 ],
 "metadata": {
  "kernelspec": {
   "display_name": "Python 3",
   "language": "python",
   "name": "python3"
  },
  "language_info": {
   "codemirror_mode": {
    "name": "ipython",
    "version": 3
   },
   "file_extension": ".py",
   "mimetype": "text/x-python",
   "name": "python",
   "nbconvert_exporter": "python",
   "pygments_lexer": "ipython3",
   "version": "3.6.4"
  }
 },
 "nbformat": 4,
 "nbformat_minor": 2
}
