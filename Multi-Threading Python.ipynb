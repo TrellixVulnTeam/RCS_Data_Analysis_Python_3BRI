{
 "cells": [
  {
   "cell_type": "code",
   "execution_count": 1,
   "metadata": {},
   "outputs": [],
   "source": [
    "import threading"
   ]
  },
  {
   "cell_type": "code",
   "execution_count": 2,
   "metadata": {},
   "outputs": [],
   "source": [
    "def calc_square(number):\n",
    "    print('Square:' , number * number)\n",
    "def calc_quad(number):\n",
    "    print('Quad:' , number * number * number * number)"
   ]
  },
  {
   "cell_type": "code",
   "execution_count": 3,
   "metadata": {},
   "outputs": [],
   "source": [
    "number = 7\n",
    "thread1 = threading.Thread(target=calc_square, args=(number,))\n",
    "thread2 = threading.Thread(target=calc_quad, args=(number,))"
   ]
  },
  {
   "cell_type": "code",
   "execution_count": 4,
   "metadata": {},
   "outputs": [
    {
     "name": "stdout",
     "output_type": "stream",
     "text": [
      "Square: Quad:49 2401\n",
      "\n"
     ]
    }
   ],
   "source": [
    "thread1.start()\n",
    "thread2.start()"
   ]
  },
  {
   "cell_type": "code",
   "execution_count": 5,
   "metadata": {},
   "outputs": [],
   "source": [
    "thread1.join()\n",
    "thread2.join()"
   ]
  },
  {
   "cell_type": "code",
   "execution_count": null,
   "metadata": {},
   "outputs": [],
   "source": [
    "import threading\n",
    "def calc_square(number):\n",
    "    print('Square:' , number * number)\n",
    "def calc_quad(number):\n",
    "    print('Quad:' , number * number * number * number)\n",
    "if __name__ == \"__main__\":\n",
    "    number = 7\n",
    "thread1 = threading.Thread(target=calc_square, args=(number,))\n",
    "thread2 = threading.Thread(target=calc_quad, args=(number,))\n",
    "# Will execute both in parallel\n",
    "    thread1.start()\n",
    "    thread2.start()\n",
    "# Joins threads back to the parent process, which is this\n",
    "    # program\n",
    "    thread1.join()\n",
    "    thread2.join()\n",
    "# This progra"
   ]
  },
  {
   "cell_type": "code",
   "execution_count": 12,
   "metadata": {},
   "outputs": [],
   "source": [
    "counter = 0"
   ]
  },
  {
   "cell_type": "code",
   "execution_count": 19,
   "metadata": {},
   "outputs": [],
   "source": [
    "def adder(n):\n",
    "    global counter\n",
    "    counter += n\n",
    "    print(n, counter)"
   ]
  },
  {
   "cell_type": "code",
   "execution_count": 20,
   "metadata": {},
   "outputs": [],
   "source": [
    "tlist = [threading.Thread(target=adder, args=(n,)) for n in range(100)]"
   ]
  },
  {
   "cell_type": "code",
   "execution_count": 9,
   "metadata": {},
   "outputs": [],
   "source": [
    "tlist = [threading.Thread(target=calc_quad, args=(number,)) for _ in range(100)]"
   ]
  },
  {
   "cell_type": "code",
   "execution_count": 15,
   "metadata": {},
   "outputs": [
    {
     "data": {
      "text/plain": [
       "threading.Thread"
      ]
     },
     "execution_count": 15,
     "metadata": {},
     "output_type": "execute_result"
    }
   ],
   "source": [
    "type(tlist[0])"
   ]
  },
  {
   "cell_type": "code",
   "execution_count": 21,
   "metadata": {},
   "outputs": [
    {
     "name": "stdout",
     "output_type": "stream",
     "text": [
      "0 0\n",
      "1 1\n",
      "2 3\n",
      "3 6\n",
      "4 10\n",
      "5 15\n",
      "6 21\n",
      "7 28\n",
      "89 45\n",
      " 36\n",
      "10 1155 66\n",
      "\n",
      "12 78\n",
      "1314 91\n",
      "15  120\n",
      "105\n",
      "16 136\n",
      "17 153\n",
      "18 171\n",
      "1920 190\n",
      "21 231\n",
      " 210\n",
      "2223  276\n",
      "253\n",
      "24 300\n",
      "25 325\n",
      "26 351\n",
      "2728 406\n",
      " 378\n",
      "29 435\n",
      "30 465\n",
      "31 496\n",
      "3233 528\n",
      "34  35595561\n",
      " \n",
      "630\n",
      "36 666\n",
      "3738 741\n",
      " 703\n",
      "39 780\n",
      "40 41820 861\n",
      "\n",
      "42 903\n",
      "43 946\n",
      "44 990\n",
      "45 1035\n",
      "46 1081\n",
      "47 1128\n",
      "48 1176\n",
      "49 1225\n",
      "50 1275\n",
      "51 1326\n",
      "52 1378\n",
      "53 1431\n",
      "54 1485\n",
      "55 1540\n",
      "56 1596\n",
      "57 1653\n",
      "58 1711\n",
      "59 601770\n",
      " 1830\n",
      "61 1891\n",
      "62 1953\n",
      "63 2016\n",
      "64 652080 2145\n",
      "\n",
      "66 2211\n",
      "67 2278\n",
      "68 2346\n",
      "69 2415\n",
      "70 2485\n",
      "71 2556\n",
      "72 2628\n",
      "73 2701\n",
      "74 2775\n",
      "75 2850\n",
      "76 2926\n",
      "77 3003\n",
      "78 3081\n",
      "79 3160\n",
      "80 3240\n",
      "81 3321\n",
      "82 3403\n",
      "83 3486\n",
      "84 3570\n",
      "85 3655\n",
      "86 3741\n",
      "87 3828\n",
      "88 3916\n",
      "89 4005\n",
      "90 4095\n",
      "91 4186\n",
      "92 4278\n",
      "93 4371\n",
      "94 4465\n",
      "95 4560\n",
      "96 4656\n",
      "97 4753\n",
      "98 4851\n",
      "99 4950\n"
     ]
    }
   ],
   "source": [
    "for worker in tlist:\n",
    "    worker.start()\n",
    "    "
   ]
  }
 ],
 "metadata": {
  "kernelspec": {
   "display_name": "Python 3",
   "language": "python",
   "name": "python3"
  },
  "language_info": {
   "codemirror_mode": {
    "name": "ipython",
    "version": 3
   },
   "file_extension": ".py",
   "mimetype": "text/x-python",
   "name": "python",
   "nbconvert_exporter": "python",
   "pygments_lexer": "ipython3",
   "version": "3.7.0"
  }
 },
 "nbformat": 4,
 "nbformat_minor": 2
}
